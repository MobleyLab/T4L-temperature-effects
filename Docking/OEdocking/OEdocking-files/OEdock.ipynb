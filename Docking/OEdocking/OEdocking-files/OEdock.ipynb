{
 "cells": [
  {
   "cell_type": "code",
   "execution_count": null,
   "metadata": {
    "collapsed": true
   },
   "outputs": [],
   "source": [
    "from openeye import oedocking\n",
    "from openeye import oeomega\n",
    "from openeye import oechem"
   ]
  },
  {
   "cell_type": "code",
   "execution_count": null,
   "metadata": {
    "collapsed": true
   },
   "outputs": [],
   "source": [
    "# Load the T4 receptor; the files of the different receptors used in this study can be found in:\n",
    "# T4L-temperature-effects/Docking/OEdock/binders-non-binders/files-to-prepare-receptors/cryo-closed-raw \n",
    "imstr = oemolistream('receptor.pdb')\n",
    "protein = oechem.OEGraphMol()\n",
    "oechem.OEReadMolecule(imstr, protein)\n",
    "#imstr.close()\n",
    "\n",
    "# Load a reference ligand to specify the binding site\n",
    "ligand = oechem.OEGraphMol()\n",
    "imstr = oechem.oemolistream('toluene_oe.mol2')\n",
    "oechem.OEReadMolecule(imstr, ligand)\n",
    "imstr.close()\n",
    "\n",
    "# Initialize the receptor for docking\n",
    "receptor = oechem.OEGraphMol()\n",
    "oedocking.OEMakeReceptor(receptor, protein, ligand)"
   ]
  },
  {
   "cell_type": "code",
   "execution_count": null,
   "metadata": {
    "collapsed": true
   },
   "outputs": [],
   "source": [
    "# Set the docking method and resolution \n",
    "dock_method = oedocking.OEDockMethod_Chemscore\n",
    "dock_resolution = oedocking.OESearchResolution_Default\n",
    "sdtag = oedocking.OEDockMethodGetName( dock_method )\n",
    "\n",
    "# OEDocking object\n",
    "dock = oedocking.OEDock( dock_method, dock_resolution)\n",
    "\n",
    "if not dock.Initialize(receptor):\n",
    "    raise Exception(\"Unable to initialize Docking with {0}\".format(self.args.receptor))"
   ]
  },
  {
   "cell_type": "code",
   "execution_count": null,
   "metadata": {
    "collapsed": true
   },
   "outputs": [],
   "source": [
    "def dock_molecule( dock: \"OEDock\", sdtag: str, num_poses: int, mcmol ) -> tuple:\n",
    "    ''' Docks the multiconfomer molecule, with the given number of poses\n",
    "        Returns a tuple of the docked molecule (dockedMol) and its score\n",
    "        i.e. ( dockedMol, score )\n",
    "    '''\n",
    "    dockedMol = oechem.OEMol()\n",
    "\n",
    "    # Dock the molecule\n",
    "    res = dock.DockMultiConformerMolecule(dockedMol, mcmol, num_poses)\n",
    "    \n",
    "    if res == oedocking.OEDockingReturnCode_Success:\n",
    "        \n",
    "        # Label the molecule with the score and SDTag\n",
    "        oedocking.OESetSDScore(dockedMol, dock, sdtag)\n",
    "        dock.AnnotatePose(dockedMol)\n",
    "        score = dock.ScoreLigand(dockedMol)\n",
    "        oechem.OESetSDData(dockedMol, sdtag, \"{}\".format(score))\n",
    "        return dockedMol, score\n",
    "    \n",
    "    else:\n",
    "        # raise an exception if the docking is not successful\n",
    "        raise Exception(\"Unable to dock ligand {0} to receptor\".format( dockedMol ))"
   ]
  },
  {
   "cell_type": "code",
   "execution_count": null,
   "metadata": {
    "collapsed": true
   },
   "outputs": [],
   "source": [
    "# Decoys created via DUD-E\n",
    "decoys = open(\"decoys.smi\").read().splitlines()\n",
    "\n",
    "# Zinc list - described as binders\n",
    "zinc = open(\"zinc.smi\").read().splitlines()\n",
    "\n",
    "# Experimentally validated active compounds - Mobley work + Minh et al \n",
    "actives = open(\"mobley-minh-actives.smi\").read().splitlines()\n",
    "\n",
    "\n",
    "#combine all the compounds in one list\n",
    "all_compounds = decoys + zinc + actives"
   ]
  },
  {
   "cell_type": "code",
   "execution_count": null,
   "metadata": {
    "collapsed": true
   },
   "outputs": [],
   "source": [
    "# save list to file \n",
    "with open('all_compounds.smi', 'w') as f:\n",
    "    for item in all_compounds:\n",
    "        f.write(\"%s\\n\" % item)"
   ]
  },
  {
   "cell_type": "code",
   "execution_count": null,
   "metadata": {
    "collapsed": true
   },
   "outputs": [],
   "source": [
    "omega = oeomega.OEOmega()\n",
    "omega.SetStrictStereo(False) \n",
    "\n",
    "# Generate conformers then dock\n",
    "inmols = []\n",
    "usednames = []\n",
    "for idx,line in enumerate(all_compounds):\n",
    "    tmp = line.split()\n",
    "    smi = tmp[0]\n",
    "    mol = oechem.OEMol()\n",
    "    name = tmp[1]\n",
    "    if name=='' or name==None or len(name)<3:\n",
    "        #Define alternate name based on index\n",
    "        name = 'mol%s smiles %s' % (idx, smi)\n",
    "        print(\"No name found on line %s; using alternate name %s...\" % (idx, name))\n",
    "    if not name in usednames: \n",
    "        usednames.append(name)\n",
    "        oechem.OEParseSmiles(mol, smi)\n",
    "        mol.SetTitle(name)\n",
    "        builtOK = omega(mol)\n",
    "        inmols.append(mol)\n",
    "    else:\n",
    "        continue\n",
    "\n",
    "# Define how many docked poses to generate per molecule\n",
    "num_poses = 2\n",
    "\n",
    "\n",
    "# Open a filestream to write the docked poses\n",
    "scores = {}\n",
    "with oechem.oemolostream( 'dock-results-Chemscore.sdf') as ofs:\n",
    "\n",
    "    # Loop over 3D molecules from the input filestream\n",
    "    for mcmol in inmols:\n",
    "\n",
    "        # Call docking function\n",
    "        dockedMol, score = dock_molecule( dock, sdtag, num_poses, mcmol )\n",
    "        print(\"{} {} score = {:.4f}\".format(sdtag, dockedMol.GetTitle(), score))\n",
    "\n",
    "        # Write docked molecules to output filestream\n",
    "        oechem.OEWriteMolecule(ofs, dockedMol)\n",
    "        \n",
    "        # Store scores\n",
    "        scores[ mcmol.GetTitle()] = score"
   ]
  },
  {
   "cell_type": "code",
   "execution_count": null,
   "metadata": {
    "collapsed": true
   },
   "outputs": [],
   "source": [
    "active_smiles_by_name = {}\n",
    "file = open('mobley-minh-actives', 'r') \n",
    "text = file.readlines()\n",
    "file.close()\n",
    "for line in text:\n",
    "    tmp = line.split()\n",
    "    active_smiles_by_name[tmp[1]] = tmp[0]\n",
    "\n",
    "# Build list of titles sorted by score\n",
    "sorted_titles = list(scores.keys())\n",
    "sorted_titles.sort( key = lambda title: scores[title] )\n",
    "\n",
    "# Count how many actives are found at which ranks\n",
    "ct = 0\n",
    "fnd_actives = []\n",
    "for active_name in active_smiles_by_name.keys():\n",
    "    if active_name in sorted_titles:\n",
    "        ct += 1\n",
    "        print(\"Active %s found in docking results at rank %s\" % ( active_name, sorted_titles.index(active_name)))\n",
    "        fnd_actives.append( active_name )\n",
    "\n",
    "print(\"Total compounds: %s\" % len(sorted_titles))\n",
    "\n",
    "#Find number of actives\n",
    "n_actives = len(fnd_actives)"
   ]
  }
 ],
 "metadata": {
  "kernelspec": {
   "display_name": "Python 2",
   "language": "python",
   "name": "python2"
  },
  "language_info": {
   "codemirror_mode": {
    "name": "ipython",
    "version": 2
   },
   "file_extension": ".py",
   "mimetype": "text/x-python",
   "name": "python",
   "nbconvert_exporter": "python",
   "pygments_lexer": "ipython2",
   "version": "2.7.14"
  }
 },
 "nbformat": 4,
 "nbformat_minor": 2
}
