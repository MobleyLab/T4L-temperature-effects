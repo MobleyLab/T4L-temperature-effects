{
 "cells": [
  {
   "cell_type": "code",
   "execution_count": null,
   "metadata": {
    "collapsed": true
   },
   "outputs": [],
   "source": [
    "# import statements\n",
    "import os\n",
    "\n",
    "import mdtraj as md\n",
    "import numpy as np\n",
    "import glob\n",
    "from scipy.stats import gaussian_kde\n",
    "\n",
    "\n",
    "%matplotlib inline\n",
    "import matplotlib\n",
    "import matplotlib.pyplot as plt\n",
    "import matplotlib.ticker as ticker\n",
    "\n",
    "from functools import partial\n",
    "import matplotlib.pyplot as plt\n",
    "from matplotlib.ticker import FuncFormatter"
   ]
  },
  {
   "cell_type": "code",
   "execution_count": null,
   "metadata": {
    "collapsed": true
   },
   "outputs": [],
   "source": [
    "trajdict = {\n",
    "    '4w51-apo-ff14': 'md-trajectory.dcd'\n",
    "    \n",
    "}\n",
    "\n",
    "topdict = {\n",
    "    '4w51-apo-ff14': 'complex_topology.pdb'\n",
    "    \n",
    "}"
   ]
  },
  {
   "cell_type": "code",
   "execution_count": null,
   "metadata": {
    "collapsed": true
   },
   "outputs": [],
   "source": [
    "trajname = 'md-trajectory.dcd'\n",
    "\n",
    "plot_title = trajname\n",
    "\n",
    "trajfile = trajname\n",
    "\n",
    "topfile = 'complex_topology.pdb'\n",
    "\n",
    "print(trajfile)\n",
    "print(topfile)\n",
    "\n",
    "\n",
    "\n",
    "save_as_pdf = False"
   ]
  },
  {
   "cell_type": "code",
   "execution_count": null,
   "metadata": {
    "collapsed": true
   },
   "outputs": [],
   "source": [
    "# load the trajectory\n",
    "\n",
    "traj = md.load( trajfile, top=topfile )\n",
    "\n",
    "print( traj )"
   ]
  },
  {
   "cell_type": "code",
   "execution_count": null,
   "metadata": {
    "collapsed": true
   },
   "outputs": [],
   "source": [
    "resids, angles = md.compute_chi1( traj )\n",
    "\n",
    "#indices of the atoms forming the Chi1\n",
    "resInds = [1733, 1735, 1737, 1739]\n",
    "\n",
    "#print(angles)\n",
    "\n",
    "print(\"The shape should be ( num_residues, 4 )\")\n",
    "len(angles)"
   ]
  },
  {
   "cell_type": "code",
   "execution_count": null,
   "metadata": {
    "collapsed": true
   },
   "outputs": [],
   "source": [
    "try:\n",
    "    topology = md.load( 'complex_topology.pdb' ).topology\n",
    "except:\n",
    "    topology = md.load_prmtop( topfile )\n",
    "    \n",
    "resOfInterest = np.where(resids == resInds)\n",
    "\n",
    "ind = resOfInterest[0][0]\n",
    "print(ind)\n",
    "\n",
    "res = ind"
   ]
  },
  {
   "cell_type": "code",
   "execution_count": null,
   "metadata": {
    "collapsed": true
   },
   "outputs": [],
   "source": [
    "res_angle = [0]*len(angles)\n",
    "data = res_angle\n",
    "    \n",
    "for fnum, frame in enumerate(angles):\n",
    "    res_angle[fnum] = ( 180 / 3.14 ) * angles[fnum][res]\n",
    "\n",
    "        \n",
    "for ind in range(len(res_angle)):\n",
    "    if res_angle[ind] < 0:\n",
    "        res_angle[ind] = 360 + res_angle[ind]\n",
    "\n",
    "# print out the angle_degrees to make sure there are no negative values\n",
    "print(\"Angles for residues of interest: ( in the form of RESID: [angles in degrees] )\")\n",
    "\n",
    "print('    {}: {}'.format( res, len(angles[res]) )  )"
   ]
  },
  {
   "cell_type": "code",
   "execution_count": null,
   "metadata": {
    "collapsed": true
   },
   "outputs": [],
   "source": [
    "def to_percent(y, position, n):\n",
    "    # Ignore the passed in position. This has the effect of scaling the default\n",
    "    # tick locations.\n",
    "    s = str(round(100 * y / n, 3))\n",
    "\n",
    "    if matplotlib.rcParams['text.usetex']:\n",
    "        return s + r'$\\%$'\n",
    "\n",
    "    return s + '%'"
   ]
  },
  {
   "cell_type": "code",
   "execution_count": null,
   "metadata": {
    "collapsed": true
   },
   "outputs": [],
   "source": [
    "percent_formatter = partial(to_percent,\n",
    "                            n=len(data))\n",
    "formatter = FuncFormatter(percent_formatter)"
   ]
  },
  {
   "cell_type": "code",
   "execution_count": null,
   "metadata": {
    "collapsed": true
   },
   "outputs": [],
   "source": [
    "fig, ax1 = plt.subplots()\n",
    "\n",
    "ax1.set_title('Val 111'.format(plot_title, topology.residue( res )), fontsize=16)\n",
    "ax1.set_xlabel('Dihedral ($^\\circ$)', fontsize=16)\n",
    "\n",
    "# set y axis 1 (left) for the histogram frequency\n",
    "color1 = 'steelblue'\n",
    "ax1.set_ylabel('Frequency (%)', color=color1, fontsize=16)  # we already handled the x-label with ax1\n",
    "bin_size = 5; min_edge = 0; max_edge = 360\n",
    "N = int((max_edge  -min_edge) / bin_size)\n",
    "Nplus1 = N + 1\n",
    "bin_list = np.linspace(min_edge, max_edge, Nplus1)\n",
    "\n",
    "ax1.hist(data, bins=bin_list, color='skyblue')\n",
    "\n",
    "percent_formatter = partial(to_percent,\n",
    "                            n=len(data))\n",
    "formatter = FuncFormatter(percent_formatter)\n",
    "\n",
    "#formatter = ticker.FuncFormatter(to_percent)\n",
    "\n",
    "ax1.yaxis.set_major_formatter(formatter)\n",
    "\n",
    "ax1.tick_params(axis='y', labelcolor=color1)\n",
    "\n",
    "\n",
    "\n",
    "\n",
    "# Set y axis 2 (right) for the gaussian KDE Density\n",
    "ax2 = ax1.twinx()\n",
    "\n",
    "color2 = 'dimgrey'\n",
    "ax2.set_ylabel('Density', color=color2, fontsize=16)\n",
    "\n",
    "density = gaussian_kde( data )\n",
    "xs = np.linspace( 0, 360 )\n",
    "density.covariance_factor = lambda : .25\n",
    "density._compute_covariance()\n",
    "ax2.plot(xs, density(xs), color=color2)\n",
    "ax2.tick_params(axis='y', labelcolor=color2)\n",
    "\n",
    "fig.tight_layout()\n",
    "\n",
    "\n",
    "plt.show()"
   ]
  }
 ],
 "metadata": {
  "kernelspec": {
   "display_name": "Python 2",
   "language": "python",
   "name": "python2"
  },
  "language_info": {
   "codemirror_mode": {
    "name": "ipython",
    "version": 2
   },
   "file_extension": ".py",
   "mimetype": "text/x-python",
   "name": "python",
   "nbconvert_exporter": "python",
   "pygments_lexer": "ipython2",
   "version": "2.7.14"
  }
 },
 "nbformat": 4,
 "nbformat_minor": 2
}
